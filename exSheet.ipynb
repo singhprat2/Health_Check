{
 "cells": [
  {
   "cell_type": "code",
   "execution_count": 3,
   "metadata": {},
   "outputs": [
    {
     "name": "stdout",
     "output_type": "stream",
     "text": [
      "hi 1. Check for the <Receipent Party> in the xml \n",
      "2. Check if the party is valid by validating with other documents in the system and is the process is complete\n",
      "3. If the process is complete, then cancel the message hi\n",
      "{'valid', '>', '2', 'Party', 'xml', 'party', '<', 'Receipent', '3', 'process', 'complete', ',', '1', 'validating', 'If', 'message', 'system', 'Check', '.', 'documents', 'cancel'}\n"
     ]
    }
   ],
   "source": [
    "from nltk.corpus import stopwords\n",
    "from nltk.tokenize import word_tokenize\n",
    "def tokennizeData(data):\n",
    "    sw = stopwords.words('english')\n",
    "    # remove stop words from the string\n",
    "    X_list = word_tokenize(data)\n",
    "    X_set = {w for w in X_list if not w in sw}\n",
    "    return X_set\n",
    "\n",
    "txt = \"\"\"1. Check for the <Receipent Party> in the xml \n",
    "2. Check if the party is valid by validating with other documents in the system and is the process is complete\n",
    "3. If the process is complete, then cancel the message\"\"\"\n",
    "\n",
    "\n",
    "x = txt.strip( '\" \\\"' )\n",
    "x=tokennizeData(x)\n",
    "\n",
    "print(x)"
   ]
  }
 ],
 "metadata": {
  "kernelspec": {
   "display_name": "Python 3",
   "language": "python",
   "name": "python3"
  },
  "language_info": {
   "codemirror_mode": {
    "name": "ipython",
    "version": 3
   },
   "file_extension": ".py",
   "mimetype": "text/x-python",
   "name": "python",
   "nbconvert_exporter": "python",
   "pygments_lexer": "ipython3",
   "version": "3.10.9"
  },
  "orig_nbformat": 4
 },
 "nbformat": 4,
 "nbformat_minor": 2
}
